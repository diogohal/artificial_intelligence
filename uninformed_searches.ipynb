{
 "cells": [
  {
   "cell_type": "markdown",
   "id": "77382bc9-9135-477f-9b7b-180767a89bd2",
   "metadata": {},
   "source": [
    "# Implementation of some Uninformed Search Algorithms "
   ]
  },
  {
   "cell_type": "markdown",
   "id": "9b960312-6f8d-4956-853c-e768543f19b3",
   "metadata": {},
   "source": [
    "## Uniform-Cost search"
   ]
  },
  {
   "cell_type": "markdown",
   "id": "62b7c1a8-c172-4847-be55-222ea76b5688",
   "metadata": {},
   "source": [
    "### Taguaí(0) <-> Fartura(1) <-> Sarutaia(2) <-> Piraju(3)\n",
    "###         <-> Timburi(4) <-> Piraju(3)\n",
    "\n",
    "### Adiciono nós expandidos"
   ]
  },
  {
   "cell_type": "code",
   "execution_count": 63,
   "id": "49d0d2d6-6083-4e6f-9ceb-cebf11a697c3",
   "metadata": {
    "tags": []
   },
   "outputs": [
    {
     "name": "stdout",
     "output_type": "stream",
     "text": [
      "[(0, 1), 80]\n",
      "[(1, 2), 97]\n",
      "[(0, 4), 99]\n",
      "[(2, 3), 101]\n",
      "[(4, 3), 211]\n",
      "None\n"
     ]
    }
   ],
   "source": [
    "def take_second(elem):\n",
    "    return elem[1]\n",
    "\n",
    "def expand_node(node, queue):\n",
    "    global graph\n",
    "    global cost\n",
    "    \n",
    "    for new_node in graph[node]:\n",
    "        queue.append([(node, new_node), cost[(node, new_node)]])\n",
    "    \n",
    "    return queue\n",
    "    \n",
    "    \n",
    "def uniform_cost_search(goal, start):\n",
    "    global graph\n",
    "    global cost\n",
    "    awnser = []\n",
    "    queue = []\n",
    "    \n",
    "    awnser.append(start)\n",
    "    expand_node(start, queue)\n",
    "    \n",
    "    while(len(queue) > 0):\n",
    "        # Get the lower cost way\n",
    "        queue = sorted(queue, key=take_second, reverse=True)\n",
    "        node = queue[-1]\n",
    "        del queue[-1]\n",
    "        \n",
    "        # Add the node in the awnser list\n",
    "        awnser.append(node)\n",
    "        \n",
    "        # Verify if the node is the goal\n",
    "        if(node == goal):\n",
    "            return awnser\n",
    "        else:\n",
    "            print(node)\n",
    "            expand_node(node[0][1], queue)\n",
    "\n",
    "        \n",
    "            \n",
    "            \n",
    "        \n",
    "\n",
    "graph,cost = [[] for i in range(8)],{}\n",
    "\n",
    "graph[0].append(1)\n",
    "graph[0].append(4)\n",
    "graph[1].append(2)\n",
    "graph[2].append(3)\n",
    "graph[4].append(3)\n",
    "\n",
    "cost[(0, 1)] = 80\n",
    "cost[(0, 4)] = 99\n",
    "cost[(1, 2)] = 97\n",
    "cost[(2, 3)] = 101\n",
    "cost[(4, 3)] = 211\n",
    "\n",
    "result = uniform_cost_search(3, 0)\n",
    "print(result)"
   ]
  },
  {
   "cell_type": "code",
   "execution_count": null,
   "id": "8528ad7f-7f73-43c6-b2cb-b094564d24cc",
   "metadata": {},
   "outputs": [],
   "source": []
  }
 ],
 "metadata": {
  "kernelspec": {
   "display_name": "Python 3 (ipykernel)",
   "language": "python",
   "name": "python3"
  },
  "language_info": {
   "codemirror_mode": {
    "name": "ipython",
    "version": 3
   },
   "file_extension": ".py",
   "mimetype": "text/x-python",
   "name": "python",
   "nbconvert_exporter": "python",
   "pygments_lexer": "ipython3",
   "version": "3.10.6"
  }
 },
 "nbformat": 4,
 "nbformat_minor": 5
}
